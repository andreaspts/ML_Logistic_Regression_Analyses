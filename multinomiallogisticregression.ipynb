{
 "cells": [
  {
   "cell_type": "markdown",
   "metadata": {},
   "source": [
    "# Multi-class classification via logistic and multinomial logistic regression\n",
    "\n",
    "In the following we discuss 3 different ways to categorize data with many different classes. One way is the one - vs - all classification and another the one - vs - one classification which are in principle built from the binary classification via logistic regression and necessitate the training of different models (!). The third one is a generalization of binary classification via logistic regression to multi-class problems where the logistic function is replaced by a so-called softmax function which yields predictions/probabilities for each individual class by training one model (!)."
   ]
  },
  {
   "cell_type": "markdown",
   "metadata": {},
   "source": [
    "The data to be analyzed lists nutrition values for food products based on three classes (so to say the main ingredient): apple, orange and cola. We would like an algorithm to learn from the nutrition values which category a yet unknown product should be assigned to."
   ]
  },
  {
   "cell_type": "code",
   "execution_count": 90,
   "metadata": {},
   "outputs": [],
   "source": [
    "#import necessary packages\n",
    "import pandas as pd\n",
    "\n",
    "import numpy as np\n",
    "\n",
    "from sklearn.model_selection import train_test_split\n",
    "from sklearn.preprocessing import StandardScaler\n",
    "from sklearn.linear_model import LogisticRegression"
   ]
  },
  {
   "cell_type": "code",
   "execution_count": 91,
   "metadata": {},
   "outputs": [
    {
     "data": {
      "text/html": [
       "<div>\n",
       "<style scoped>\n",
       "    .dataframe tbody tr th:only-of-type {\n",
       "        vertical-align: middle;\n",
       "    }\n",
       "\n",
       "    .dataframe tbody tr th {\n",
       "        vertical-align: top;\n",
       "    }\n",
       "\n",
       "    .dataframe thead th {\n",
       "        text-align: right;\n",
       "    }\n",
       "</style>\n",
       "<table border=\"1\" class=\"dataframe\">\n",
       "  <thead>\n",
       "    <tr style=\"text-align: right;\">\n",
       "      <th></th>\n",
       "      <th>product_name</th>\n",
       "      <th>brands</th>\n",
       "      <th>countries</th>\n",
       "      <th>energy_100g</th>\n",
       "      <th>fat_100g</th>\n",
       "      <th>carbohydrates_100g</th>\n",
       "      <th>sugars_100g</th>\n",
       "      <th>proteins_100g</th>\n",
       "      <th>clss</th>\n",
       "    </tr>\n",
       "  </thead>\n",
       "  <tbody>\n",
       "    <tr>\n",
       "      <th>0</th>\n",
       "      <td>Apple, Beetroot &amp; Blackcurrant Juice</td>\n",
       "      <td>Marks &amp; Spencer</td>\n",
       "      <td>France,Royaume-Uni</td>\n",
       "      <td>188.0</td>\n",
       "      <td>0.1</td>\n",
       "      <td>10.5</td>\n",
       "      <td>10.1</td>\n",
       "      <td>0.4</td>\n",
       "      <td>Apple</td>\n",
       "    </tr>\n",
       "    <tr>\n",
       "      <th>1</th>\n",
       "      <td>Freezed Orange Juice with Mango and Apple</td>\n",
       "      <td>Marks &amp; Spencer</td>\n",
       "      <td>France,Royaume-Uni</td>\n",
       "      <td>237.0</td>\n",
       "      <td>0.4</td>\n",
       "      <td>11.5</td>\n",
       "      <td>10.4</td>\n",
       "      <td>0.9</td>\n",
       "      <td>Apple</td>\n",
       "    </tr>\n",
       "    <tr>\n",
       "      <th>2</th>\n",
       "      <td>Pressed British Apple Juice</td>\n",
       "      <td>M&amp;S,Marks &amp; Spencer</td>\n",
       "      <td>France,Royaume-Uni</td>\n",
       "      <td>201.0</td>\n",
       "      <td>0.1</td>\n",
       "      <td>10.4</td>\n",
       "      <td>10.4</td>\n",
       "      <td>0.1</td>\n",
       "      <td>Apple</td>\n",
       "    </tr>\n",
       "    <tr>\n",
       "      <th>3</th>\n",
       "      <td>Juicy Juice Apple</td>\n",
       "      <td>Nestlé</td>\n",
       "      <td>United States</td>\n",
       "      <td>201.0</td>\n",
       "      <td>0.0</td>\n",
       "      <td>12.0</td>\n",
       "      <td>11.2</td>\n",
       "      <td>0.0</td>\n",
       "      <td>Apple</td>\n",
       "    </tr>\n",
       "    <tr>\n",
       "      <th>4</th>\n",
       "      <td>Apple Juice</td>\n",
       "      <td>Tree Top, Tree Top Inc.</td>\n",
       "      <td>United States</td>\n",
       "      <td>209.0</td>\n",
       "      <td>0.0</td>\n",
       "      <td>12.1</td>\n",
       "      <td>10.8</td>\n",
       "      <td>0.0</td>\n",
       "      <td>Apple</td>\n",
       "    </tr>\n",
       "  </tbody>\n",
       "</table>\n",
       "</div>"
      ],
      "text/plain": [
       "                                product_name                   brands  \\\n",
       "0       Apple, Beetroot & Blackcurrant Juice          Marks & Spencer   \n",
       "1  Freezed Orange Juice with Mango and Apple          Marks & Spencer   \n",
       "2                Pressed British Apple Juice      M&S,Marks & Spencer   \n",
       "3                          Juicy Juice Apple                   Nestlé   \n",
       "4                                Apple Juice  Tree Top, Tree Top Inc.   \n",
       "\n",
       "            countries  energy_100g  fat_100g  carbohydrates_100g  sugars_100g  \\\n",
       "0  France,Royaume-Uni        188.0       0.1                10.5         10.1   \n",
       "1  France,Royaume-Uni        237.0       0.4                11.5         10.4   \n",
       "2  France,Royaume-Uni        201.0       0.1                10.4         10.4   \n",
       "3       United States        201.0       0.0                12.0         11.2   \n",
       "4       United States        209.0       0.0                12.1         10.8   \n",
       "\n",
       "   proteins_100g   clss  \n",
       "0            0.4  Apple  \n",
       "1            0.9  Apple  \n",
       "2            0.1  Apple  \n",
       "3            0.0  Apple  \n",
       "4            0.0  Apple  "
      ]
     },
     "execution_count": 91,
     "metadata": {},
     "output_type": "execute_result"
    }
   ],
   "source": [
    "df = pd.read_csv(\"foods.csv\")\n",
    "\n",
    "df.head()"
   ]
  },
  {
   "cell_type": "code",
   "execution_count": 100,
   "metadata": {},
   "outputs": [
    {
     "data": {
      "text/plain": [
       "(594, 9)"
      ]
     },
     "execution_count": 100,
     "metadata": {},
     "output_type": "execute_result"
    }
   ],
   "source": [
    "df.shape"
   ]
  },
  {
   "cell_type": "code",
   "execution_count": 94,
   "metadata": {},
   "outputs": [],
   "source": [
    "#define variables\n",
    "X = df[[\"energy_100g\",\"fat_100g\", \"carbohydrates_100g\", \"sugars_100g\", \"proteins_100g\"]]\n",
    "Y = df[\"clss\"].values # single brackets\n",
    "\n",
    "X_train, X_test, Y_train, Y_test = train_test_split(X, Y, random_state = 42, test_size = .25)\n",
    "\n",
    "#rescale training and test data\n",
    "scaler = StandardScaler()\n",
    "scaler.fit(X_train)\n",
    "\n",
    "X_train = scaler.transform(X_train)\n",
    "X_test = scaler.transform(X_test)"
   ]
  },
  {
   "cell_type": "code",
   "execution_count": 95,
   "metadata": {},
   "outputs": [
    {
     "name": "stdout",
     "output_type": "stream",
     "text": [
      "0.87248322147651\n"
     ]
    },
    {
     "name": "stderr",
     "output_type": "stream",
     "text": [
      "/Users/Andreas/anaconda3/lib/python3.6/site-packages/sklearn/linear_model/logistic.py:433: FutureWarning: Default solver will be changed to 'lbfgs' in 0.22. Specify a solver to silence this warning.\n",
      "  FutureWarning)\n",
      "/Users/Andreas/anaconda3/lib/python3.6/site-packages/sklearn/linear_model/logistic.py:460: FutureWarning: Default multi_class will be changed to 'auto' in 0.22. Specify the multi_class option to silence this warning.\n",
      "  \"this warning.\", FutureWarning)\n"
     ]
    }
   ],
   "source": [
    "#one - vs - all classification\n",
    "model = LogisticRegression()\n",
    "model.fit(X_train, Y_train)\n",
    "\n",
    "Y_predicted = model.predict(X_test)\n",
    "\n",
    "print(model.score(X_test, Y_test))"
   ]
  },
  {
   "cell_type": "code",
   "execution_count": 97,
   "metadata": {},
   "outputs": [
    {
     "name": "stdout",
     "output_type": "stream",
     "text": [
      "0.8791946308724832\n"
     ]
    },
    {
     "name": "stderr",
     "output_type": "stream",
     "text": [
      "/Users/Andreas/anaconda3/lib/python3.6/site-packages/sklearn/linear_model/logistic.py:433: FutureWarning: Default solver will be changed to 'lbfgs' in 0.22. Specify a solver to silence this warning.\n",
      "  FutureWarning)\n",
      "/Users/Andreas/anaconda3/lib/python3.6/site-packages/sklearn/linear_model/logistic.py:433: FutureWarning: Default solver will be changed to 'lbfgs' in 0.22. Specify a solver to silence this warning.\n",
      "  FutureWarning)\n",
      "/Users/Andreas/anaconda3/lib/python3.6/site-packages/sklearn/linear_model/logistic.py:433: FutureWarning: Default solver will be changed to 'lbfgs' in 0.22. Specify a solver to silence this warning.\n",
      "  FutureWarning)\n"
     ]
    }
   ],
   "source": [
    "#one - vs - one classification\n",
    "from sklearn.multiclass import OneVsOneClassifier\n",
    "\n",
    "model = OneVsOneClassifier(LogisticRegression())\n",
    "\n",
    "model.fit(X_train, Y_train)\n",
    "\n",
    "print(model.score(X_test, Y_test))"
   ]
  },
  {
   "cell_type": "markdown",
   "metadata": {},
   "source": [
    "### Multinomial logistic regression\n",
    "\n",
    "Another method different to the above and in principle a straightforward generalization of the simple logistic regression to multi-class classification is the multinomial logistic regression. It generates output (a probability) for each class. For details we refer to https://en.wikipedia.org/wiki/Multinomial_logistic_regression and https://chrisalbon.com/machine_learning/naive_bayes/multinomial_logistic_regression/:"
   ]
  },
  {
   "cell_type": "code",
   "execution_count": 106,
   "metadata": {},
   "outputs": [
    {
     "name": "stdout",
     "output_type": "stream",
     "text": [
      "0.8791946308724832\n"
     ]
    }
   ],
   "source": [
    "#multinomial logistic regression\n",
    "model = LogisticRegression(multi_class = \"multinomial\", solver = \"newton-cg\") # solver = \"saga\", max_iter = 400\n",
    "\n",
    "model.fit(X_train, Y_train)\n",
    "\n",
    "print(model.score(X_test, Y_test))"
   ]
  },
  {
   "cell_type": "markdown",
   "metadata": {},
   "source": [
    "We see that the precision for the given case does not vary too much. The advantage of the multinomial logistic regression plays out at problems with many more classes."
   ]
  }
 ],
 "metadata": {
  "kernelspec": {
   "display_name": "Python 3",
   "language": "python",
   "name": "python3"
  },
  "language_info": {
   "codemirror_mode": {
    "name": "ipython",
    "version": 3
   },
   "file_extension": ".py",
   "mimetype": "text/x-python",
   "name": "python",
   "nbconvert_exporter": "python",
   "pygments_lexer": "ipython3",
   "version": "3.6.7"
  }
 },
 "nbformat": 4,
 "nbformat_minor": 2
}
